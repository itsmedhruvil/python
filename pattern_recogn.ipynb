{
 "cells": [
  {
   "cell_type": "code",
   "execution_count": 13,
   "metadata": {},
   "outputs": [
    {
     "name": "stdout",
     "output_type": "stream",
     "text": [
      "383724.99999999977\n",
      "[   137.25 -26025.    -6825.  ]\n"
     ]
    },
    {
     "name": "stderr",
     "output_type": "stream",
     "text": [
      "c:\\Users\\Admin\\AppData\\Local\\Programs\\Python\\Python310\\lib\\site-packages\\sklearn\\base.py:450: UserWarning: X does not have valid feature names, but LinearRegression was fitted with feature names\n",
      "  warnings.warn(\n"
     ]
    }
   ],
   "source": [
    "#multi variable linear regression\n",
    "\n",
    "import numpy as np\n",
    "import pandas as pd\n",
    "import matplotlib.pyplot as plt\n",
    "from sklearn.linear_model import LinearRegression\n",
    "\n",
    "#read data\n",
    "df = pd.read_csv('homeprices.csv')\n",
    "df.head()\n",
    "new_df=df.drop('price',axis='columns')\n",
    "new_df\n",
    "\n",
    "#train_model\n",
    "model=LinearRegression()\n",
    "model.fit(new_df,df.price)\n",
    "\n",
    "#predict\n",
    "model.predict([[5000,3,40]])\n",
    "                \n",
    "#intercept\n",
    "i=model.intercept_\n",
    "print(i)\n",
    "#coefficients\n",
    "p = model.coef_\n",
    "print(p)\n",
    "\n",
    "\n",
    "\n",
    "\n"
   ]
  },
  {
   "cell_type": "code",
   "execution_count": null,
   "metadata": {},
   "outputs": [],
   "source": [
    "import pandas as pd\n",
    "import matplotlib\n",
    "from matplotlib import pyplot as plt\n",
    "%matplotlib inline\n",
    "matplotlib.rcParams['figure.figsize']=(10,6)\n",
    "\n",
    "df = pd.read_csv(\"heights.csv\")\n"
   ]
  }
 ],
 "metadata": {
  "kernelspec": {
   "display_name": "Python 3",
   "language": "python",
   "name": "python3"
  },
  "language_info": {
   "name": "python",
   "version": "3.10.1"
  },
  "orig_nbformat": 4
 },
 "nbformat": 4,
 "nbformat_minor": 2
}
