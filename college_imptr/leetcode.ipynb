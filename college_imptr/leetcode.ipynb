{
 "cells": [
  {
   "attachments": {},
   "cell_type": "markdown",
   "metadata": {},
   "source": [
    "                                        Two Sum\n",
    "                                    \n",
    "\n",
    "Given an array of integers nums and an integer target, return indices of the two numbers such that they add up to target.\n",
    "\n",
    "You may assume that each input would have exactly one solution, and you may not use the same element twice.\n",
    "\n",
    "You can return the answer in any order.\n",
    "\n",
    " \n",
    "\n",
    "Example 1:\n",
    "\n",
    "Input: nums = [2,7,11,15], target = 9\n",
    "Output: [0,1]\n",
    "Explanation: Because nums[0] + nums[1] == 9, we return [0, 1].\n",
    "Example 2:\n",
    "\n",
    "Input: nums = [3,2,4], target = 6\n",
    "Output: [1,2]"
   ]
  },
  {
   "cell_type": "code",
   "execution_count": 2,
   "metadata": {},
   "outputs": [
    {
     "ename": "TypeError",
     "evalue": "'map' object is not callable",
     "output_type": "error",
     "traceback": [
      "\u001b[1;31m---------------------------------------------------------------------------\u001b[0m",
      "\u001b[1;31mTypeError\u001b[0m                                 Traceback (most recent call last)",
      "\u001b[1;32md:\\Dhruvil Programming\\python\\college_imptr\\leetcode.ipynb Cell 2\u001b[0m in \u001b[0;36m<cell line: 8>\u001b[1;34m()\u001b[0m\n\u001b[0;32m      <a href='vscode-notebook-cell:/d%3A/Dhruvil%20Programming/python/college_imptr/leetcode.ipynb#W1sZmlsZQ%3D%3D?line=5'>6</a>\u001b[0m     seen[nums[i]] \u001b[39m=\u001b[39m i\n\u001b[0;32m      <a href='vscode-notebook-cell:/d%3A/Dhruvil%20Programming/python/college_imptr/leetcode.ipynb#W1sZmlsZQ%3D%3D?line=6'>7</a>\u001b[0m   \u001b[39mreturn\u001b[39;00m []\n\u001b[1;32m----> <a href='vscode-notebook-cell:/d%3A/Dhruvil%20Programming/python/college_imptr/leetcode.ipynb#W1sZmlsZQ%3D%3D?line=7'>8</a>\u001b[0m list1 \u001b[39m=\u001b[39m \u001b[39mlist\u001b[39;49m(\u001b[39mmap\u001b[39;49m(\u001b[39mint\u001b[39;49m, \u001b[39minput\u001b[39;49m()\u001b[39m.\u001b[39;49msplit(\u001b[39m\"\u001b[39;49m\u001b[39m,\u001b[39;49m\u001b[39m\"\u001b[39;49m)))\n\u001b[0;32m      <a href='vscode-notebook-cell:/d%3A/Dhruvil%20Programming/python/college_imptr/leetcode.ipynb#W1sZmlsZQ%3D%3D?line=8'>9</a>\u001b[0m indices\u001b[39m=\u001b[39mtwo_sum(list1,\u001b[39m7\u001b[39m)\n\u001b[0;32m     <a href='vscode-notebook-cell:/d%3A/Dhruvil%20Programming/python/college_imptr/leetcode.ipynb#W1sZmlsZQ%3D%3D?line=9'>10</a>\u001b[0m \u001b[39mprint\u001b[39m(indices)\n",
      "\u001b[1;31mTypeError\u001b[0m: 'map' object is not callable"
     ]
    }
   ],
   "source": [
    "def two_sum(nums, target):\n",
    "  seen = {}\n",
    "  for i in range(len(nums)):\n",
    "    if target - nums[i] in seen:\n",
    "      return [seen[target - nums[i]], i]\n",
    "    seen[nums[i]] = i\n",
    "  return []\n",
    "def three_sum(nums, target):\n",
    "  \n",
    "\n",
    "\n",
    "\n",
    "list1 = list(map(int, input().split(\",\")))\n",
    "indices=two_sum(list1,7)\n",
    "print(indices)"
   ]
  }
 ],
 "metadata": {
  "kernelspec": {
   "display_name": "Python 3",
   "language": "python",
   "name": "python3"
  },
  "language_info": {
   "codemirror_mode": {
    "name": "ipython",
    "version": 3
   },
   "file_extension": ".py",
   "mimetype": "text/x-python",
   "name": "python",
   "nbconvert_exporter": "python",
   "pygments_lexer": "ipython3",
   "version": "3.10.1"
  },
  "orig_nbformat": 4
 },
 "nbformat": 4,
 "nbformat_minor": 2
}
