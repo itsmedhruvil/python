{
 "cells": [
  {
   "attachments": {},
   "cell_type": "markdown",
   "metadata": {},
   "source": [
    "\n",
    "                                        Two Sum\n",
    "                                    \n",
    "\n",
    "Given an array of integers nums and an integer target, return indices of the two numbers such that they add up to target.\n",
    "\n",
    "You may assume that each input would have exactly one solution, and you may not use the same element twice.\n",
    "\n",
    "You can return the answer in any order.\n",
    "\n",
    " \n",
    "\n",
    "Example 1:\n",
    "\n",
    "Input: nums = [2,7,11,15], target = 9\n",
    "Output: [0,1]\n",
    "Explanation: Because nums[0] + nums[1] == 9, we return [0, 1].\n",
    "Example 2:\n",
    "\n",
    "Input: nums = [3,2,4], target = 6\n",
    "Output: [1,2]"
   ]
  },
  {
   "cell_type": "code",
   "execution_count": 9,
   "metadata": {},
   "outputs": [
    {
     "name": "stdout",
     "output_type": "stream",
     "text": [
      "[2, 3]\n"
     ]
    }
   ],
   "source": [
    "def two_sum(nums, target):\n",
    "  seen = {}\n",
    "  for i in range(len(nums)):\n",
    "    if target - nums[i] in seen:\n",
    "      return [seen[target - nums[i]], i]\n",
    "    seen[nums[i]] = i\n",
    "  return []\n",
    "list1=[1,2,3,4,5,6]\n",
    "indices=two_sum(list1,7)\n",
    "print(indices)"
   ]
  },
  {
   "attachments": {},
   "cell_type": "markdown",
   "metadata": {},
   "source": [
    " Longest Substring Without Repeating Characters\n"
   ]
  },
  {
   "cell_type": "code",
   "execution_count": 3,
   "metadata": {},
   "outputs": [
    {
     "name": "stdout",
     "output_type": "stream",
     "text": [
      "ram\n"
     ]
    }
   ],
   "source": [
    "s=input()\n",
    "l=[]\n",
    "def not_repeating(subs):\n",
    "    #append string to l if no repeating characters\n",
    "    for i in range(len(subs)):\n",
    "        if subs[i] in subs[i+1:]:\n",
    "            return  \n",
    "    l.append(subs)\n",
    "for i in range(len(s)):\n",
    "    st=\"\"\n",
    "    st=st+s[i]\n",
    "    for j in range(i+1,len(s)):\n",
    "        st=st+s[j]\n",
    "        not_repeating(st)\n",
    "#print the string with most length in l\n",
    "max_len=0\n",
    "for i in range(len(l)):\n",
    "    if len(l[i])>max_len:\n",
    "        max_len=len(l[i])\n",
    "        index=i\n",
    "print(l[index])\n",
    "\n"
   ]
  },
  {
   "cell_type": "code",
   "execution_count": null,
   "metadata": {},
   "outputs": [],
   "source": []
  }
 ],
 "metadata": {
  "kernelspec": {
   "display_name": "Python 3",
   "language": "python",
   "name": "python3"
  },
  "language_info": {
   "codemirror_mode": {
    "name": "ipython",
    "version": 3
   },
   "file_extension": ".py",
   "mimetype": "text/x-python",
   "name": "python",
   "nbconvert_exporter": "python",
   "pygments_lexer": "ipython3",
   "version": "3.10.1"
  },
  "orig_nbformat": 4
 },
 "nbformat": 4,
 "nbformat_minor": 2
}
