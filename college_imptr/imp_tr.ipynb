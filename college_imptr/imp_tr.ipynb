{
 "cells": [
  {
   "attachments": {},
   "cell_type": "markdown",
   "metadata": {},
   "source": [
    "explicit typecasting\n",
    "Python doesnt have any datatypes at individual variable level, it uses classes to convert variables into other datatypes\n",
    "We use classes to explicitly typecast"
   ]
  },
  {
   "cell_type": "code",
   "execution_count": null,
   "metadata": {},
   "outputs": [],
   "source": [
    "a=True\n",
    "b=int(a)\n",
    "print(b)\n"
   ]
  },
  {
   "attachments": {},
   "cell_type": "markdown",
   "metadata": {},
   "source": [
    "sequential datatypes \n",
    "Lists, Tuples, Sets, Frozen Sets, Arrays, Strings, etc."
   ]
  },
  {
   "cell_type": "code",
   "execution_count": null,
   "metadata": {},
   "outputs": [],
   "source": [
    "l=[] #list\n",
    "t=() #tuple\n",
    "d={} #dictionary\n",
    "s=set() #set\n",
    "\n",
    "#tuples are immutable\n",
    "#lists are mutable\n",
    "\n",
    "#two types of indexing\n",
    "#1. positive indexing\n",
    "#2. negative indexing\n",
    "\n",
    "# Examples of these indexing methods in lists and tuples\n",
    "l=[1,2,3,4,5,6,7,8,9,10]\n",
    "print(l[0])\n",
    "print(l[-1])\n",
    "#list are mutable, and can append one argument at a time\n",
    "l.append(\"parul\")\n",
    "print(l)\n",
    "\n",
    "#sets dont support indexing\n",
    "s={1,2,3,4,5,6,7,8,9,10}\n",
    "#print(s[0])\n",
    "#print(s[-1]) #this leads to error\n",
    "#sets are immutable, and can only add one element at a time\n",
    "s.add(\"parul\")\n",
    "print(s)\n",
    "\n",
    "#strings too are immutable but support indexing\n",
    "s=\"parul\"\n",
    "print(s[0])\n",
    "print(s[-1])\n"
   ]
  },
  {
   "attachments": {},
   "cell_type": "markdown",
   "metadata": {},
   "source": [
    "Dictionary, pair of keys:values\n",
    "Doesn't support indexing with the traditional approach\n"
   ]
  },
  {
   "cell_type": "code",
   "execution_count": null,
   "metadata": {},
   "outputs": [],
   "source": [
    "s={1:\"parul\",\"name\":\"pit\", 2+3j:1234 }\n",
    "print(s[1])\n",
    "print(s[\"name\"])\n",
    "print(s[2+3j])\n",
    "print(s.keys())\n",
    "print(s.values())\n",
    "\n",
    "#sets dont support indexing\n",
    "#sets are mutable\n",
    "#sets are unordered\n",
    "#sets dont support duplicate values\n",
    "#sets dont support slicing\n",
    "s[\"name\"] =\"Parul\"\n",
    "print(s)"
   ]
  },
  {
   "attachments": {},
   "cell_type": "markdown",
   "metadata": {},
   "source": [
    "Arithmetical Operators, wahi apna plus minus divide multiply"
   ]
  },
  {
   "cell_type": "code",
   "execution_count": null,
   "metadata": {},
   "outputs": [],
   "source": [
    "a=12\n",
    "b=2\n",
    "print(a+b)\n",
    "print(a-b)\n",
    "print(a*b)\n",
    "print(a/b)\n",
    "print(a//b) #quotient\n",
    "print(a%b)  #modulus\n",
    "print(a**b) #power\n",
    "\n"
   ]
  },
  {
   "attachments": {},
   "cell_type": "markdown",
   "metadata": {},
   "source": [
    "Input : how to accept values in python\n"
   ]
  },
  {
   "cell_type": "code",
   "execution_count": null,
   "metadata": {},
   "outputs": [],
   "source": [
    "a=float(input(\"Enter the first value\"))\n",
    "print(a)\n",
    "b=complex(input(\"Enter the second value\"))\n",
    "print(b)"
   ]
  },
  {
   "cell_type": "code",
   "execution_count": null,
   "metadata": {},
   "outputs": [],
   "source": [
    "#Question 1\n",
    "#test case 1 \n",
    "#input : 2+35+7-23\n",
    "#output : 21\n",
    "r=eval(input())\n",
    "print(r)\n"
   ]
  },
  {
   "cell_type": "code",
   "execution_count": null,
   "metadata": {},
   "outputs": [],
   "source": [
    "#Question 2\n",
    "#test case 2: Accept two numbers using stdin and print addtion, subtraction and product of those two numbers\n"
   ]
  },
  {
   "cell_type": "code",
   "execution_count": null,
   "metadata": {},
   "outputs": [],
   "source": [
    "a=int(input())\n",
    "b=int(input())\n",
    "\n",
    "print(a+b)\n",
    "print(a-b)\n",
    "print(a*b)\n"
   ]
  },
  {
   "attachments": {},
   "cell_type": "markdown",
   "metadata": {},
   "source": [
    "Raw Input Function : Only supports Strings Input, not supported by Python3\n",
    "But Python3 me to by default raw input hi he, as it already supports accepting values in form of string"
   ]
  },
  {
   "cell_type": "code",
   "execution_count": null,
   "metadata": {},
   "outputs": [],
   "source": [
    "#seperating using explicit seperator\n",
    "print(a,b,sep=\",\")\n",
    "\n",
    "#Question 1^2^3^4\n",
    "l=[0,0,0,0]\n",
    "for i in range(0,4):\n",
    "    l[i]=int(input())\n",
    "\n",
    "print(l[0],l[1],l[2],l[3],sep=\"^\")"
   ]
  },
  {
   "attachments": {},
   "cell_type": "markdown",
   "metadata": {},
   "source": [
    "Flush, this is used to clear out all the buffer in the compiler, so it allows us to get rid of variable clashing in values, by default value false, need to cahnge it to true."
   ]
  },
  {
   "cell_type": "code",
   "execution_count": null,
   "metadata": {},
   "outputs": [],
   "source": [
    "print(\"a\",\"b\",\"c\", sep=\"#\", flush=\"True\")\n"
   ]
  },
  {
   "attachments": {},
   "cell_type": "markdown",
   "metadata": {},
   "source": [
    "Membership Operator\n",
    "1)in\n",
    "2)not in\n",
    "\n",
    "check whether your subset is present in your set or not\n"
   ]
  },
  {
   "cell_type": "code",
   "execution_count": null,
   "metadata": {},
   "outputs": [],
   "source": [
    "a=\"parul\"\n",
    "print('l' not in a)\n"
   ]
  },
  {
   "attachments": {},
   "cell_type": "markdown",
   "metadata": {},
   "source": [
    "Identifier Operator\n",
    "\n",
    "is,is not \n",
    "\n",
    "used to check equality of two values\n"
   ]
  },
  {
   "cell_type": "code",
   "execution_count": null,
   "metadata": {},
   "outputs": [],
   "source": [
    "for i in range(0,4):\n",
    "    l[i]=int(input())\n",
    "b=l[2]\n",
    "print(b is not 78)\n"
   ]
  },
  {
   "attachments": {},
   "cell_type": "markdown",
   "metadata": {},
   "source": [
    "Logical Operators\n",
    " and not or\n",
    " "
   ]
  },
  {
   "cell_type": "code",
   "execution_count": null,
   "metadata": {},
   "outputs": [],
   "source": [
    "a=56\n",
    "b=78\n",
    "print(not(a!=b and a==b))"
   ]
  },
  {
   "attachments": {},
   "cell_type": "markdown",
   "metadata": {},
   "source": [
    "Assignment operators\n",
    "=, *= and that stuff\n",
    "\n",
    "a+=b wala operators"
   ]
  },
  {
   "attachments": {},
   "cell_type": "markdown",
   "metadata": {},
   "source": [
    "Bitwise Operators.\n",
    "&, ^, |, ~, << >>\n",
    "\n",
    "both input of same bits, add zeros to make it so\n"
   ]
  },
  {
   "attachments": {},
   "cell_type": "markdown",
   "metadata": {},
   "source": [
    "Split, Map and List\n",
    "\n",
    "Split function splits the string input into individual components upon encountering the character defined in the split method, now this arguments are converted into int by calling the map function to map this inputs to a list after converting them into integers.\n"
   ]
  },
  {
   "cell_type": "code",
   "execution_count": null,
   "metadata": {},
   "outputs": [],
   "source": [
    "l2= list(map(int,input().split(\";\")))\n",
    "print(l2)"
   ]
  },
  {
   "cell_type": "code",
   "execution_count": null,
   "metadata": {},
   "outputs": [],
   "source": [
    "# #Test Case : Take inputs until user defined size\n",
    "\n",
    "# length=int(input(\"Enter the list size\"))\n",
    "# l3=[0]*length\n",
    "# for i in range(0,length):\n",
    "#     l3[i]=int(input())\n",
    "# print(l3)\n",
    "\n",
    "#using map function\n",
    "length=int(input(\"Enter the list size\"))\n",
    "li=list(map(int,input().split()))\n",
    "print(len(li))\n",
    "if len(li)==length:\n",
    "    print(li)\n",
    "else:\n",
    "    print(\"Invalid input\")\n",
    "\n"
   ]
  },
  {
   "cell_type": "code",
   "execution_count": null,
   "metadata": {},
   "outputs": [],
   "source": [
    "n=int(input())\n",
    "l1=[input().split() for i in range(n)]\n",
    "print(l1)\n",
    "\n",
    "\n",
    "n = int(input(\"Enter the number of sublists\"))\n",
    "l = []\n",
    "for i in range(0,n):\n",
    "    l.append(list(map(int,input().split())))\n",
    "print(l)\n",
    "if(len(l)==n):\n",
    "    print(\"Succesful\")\n",
    "else:\n",
    "    print(\"Invalid Input\")"
   ]
  },
  {
   "cell_type": "code",
   "execution_count": null,
   "metadata": {},
   "outputs": [],
   "source": [
    "l=[0]*6\n",
    "odd=[]\n",
    "even=[]\n",
    "\n",
    "for i in range (0,6):\n",
    "    l[i] = int(input(\"Enter a number\"))\n",
    "    if (l[i]%2==0):\n",
    "        even.append(l[i])\n",
    "    else:\n",
    "        odd.append(l[i])\n",
    "odd.sort()\n",
    "even.sort(reverse=True)\n",
    "\n",
    "#to store the values of odd and even in a list\n",
    "l1=even+odd\n",
    "print(l1)\n",
    "\n",
    "\n",
    "\n",
    "\n",
    "\n",
    "\n",
    "\n",
    "\n",
    "\n"
   ]
  },
  {
   "cell_type": "code",
   "execution_count": null,
   "metadata": {},
   "outputs": [],
   "source": [
    "#doing the same using insert function\n",
    "\n",
    "l=[0]*6\n",
    "list=[]\n",
    "for i in range(0,6):\n",
    "    l[i]=int(input())\n",
    "l.sort()\n",
    "for i in range(0,6):\n",
    "    if(l[i]%2==0):\n",
    "        list.insert(0,l[i])\n",
    "    else:\n",
    "        list.append(l[i])\n",
    "print(list)\n",
    "\n"
   ]
  },
  {
   "cell_type": "code",
   "execution_count": null,
   "metadata": {},
   "outputs": [],
   "source": [
    "# li=[\"Hi\",\"H\",\"12345\",\"Hello\",\"A\"]\n",
    "# li.sort(key=len)\n",
    "# print(li)\n",
    "\n",
    "#using for loop\n",
    "list1 = [10, 5, 2, 7, 8, 3, 6, 9, 4]\n",
    "\n",
    "# Print the original list\n",
    "print(\"Original list:\", list1)\n",
    "\n",
    "# Create a for loop to iterate through the list\n",
    "for i in range(len(list1) - 1):\n",
    "\n",
    "    # Create a for loop to compare the elements in the list\n",
    "    for j in range(i + 1, len(list1)):\n",
    "\n",
    "        # If the current element is greater than the next element, swap the elements\n",
    "        if list1[i] > list1[j]:\n",
    "            list1[i], list1[j] = list1[j], list1[i]\n",
    "\n",
    "# Print the sorted list\n",
    "print(\"Sorted list:\", list1)\n",
    "\n",
    "\n",
    "\n",
    "\n",
    "\n"
   ]
  },
  {
   "attachments": {},
   "cell_type": "markdown",
   "metadata": {},
   "source": [
    "Dictionary \n",
    "\n",
    "Python has a set of built-in methods that you can use on dictionaries. These methods are used to perform various operations on dictionaries, such as adding, removing, and updating items.\n",
    "\n",
    "Here are some of the most commonly used dictionary methods:\n",
    "\n",
    "clear() : Removes all the elements from the dictionary.\n",
    "copy() : Returns a copy of the dictionary.\n",
    "get() : Returns the value of the specified key. If the key does not exist, it returns None.\n",
    "items() : Returns a list of tuples, where each tuple contains a key and its corresponding value.\n",
    "keys() : Returns a list of all the keys in the dictionary.\n",
    "pop() : Removes the specified key from the dictionary and returns its value. If the key does not exist, it raises a KeyError exception.\n",
    "setdefault() : Sets the value of the specified key to the specified value. If the key already exists, its value is not changed.\n",
    "update() : Updates the dictionary with the items from another dictionary.\n",
    "values() : Returns a list of all the values in the dictionary.\n",
    "\n",
    "\n",
    "Dictionary comprehension is a concise way to create a dictionary in Python. It is similar to list comprehension, but it is used to create dictionaries instead of lists.\n",
    "\n",
    "squares = {number: number ** 2 for number in range(1, 11)}\n",
    "\n"
   ]
  },
  {
   "cell_type": "code",
   "execution_count": null,
   "metadata": {},
   "outputs": [],
   "source": [
    "#Wap to add a key to a dictionary\n",
    "n=int(input(\"Enter Dictionary size\"))\n",
    "d={}\n",
    "for i in range(n):\n",
    "    key=input()\n",
    "    value=input()\n",
    "    d[key]=value\n",
    "print(d)\n",
    "\n",
    "d1={}\n",
    "n=int(input(\"Enter new Dictionary size\"))\n",
    "for i in range(n):\n",
    "    key=input()\n",
    "    value=input()\n",
    "    d1[key]=value\n",
    "print(d1)\n",
    "d.update(d1)\n",
    "print(d)\n",
    "\n",
    "\n",
    "# without creating second dictionary\n",
    "n=int(input(\"Enter Dictionary size\"))\n",
    "for i in range(n):\n",
    "    key=input()\n",
    "    value=input()\n",
    "    d[key]=value\n",
    "print(d)\n",
    "# To add a key to a dictionary\n",
    "key=input()\n",
    "value=input()\n",
    "d[key]=value\n",
    "print(d)\n"
   ]
  },
  {
   "attachments": {},
   "cell_type": "markdown",
   "metadata": {},
   "source": [
    "Set \n",
    "\n",
    "In Python, a set is an unordered collection of unique elements. Sets are mutable, meaning that they can be changed after they are created. Sets are often used to store collections of data that do not need to be in any particular order, such as the unique values in a list or the possible outcomes of a coin flip.\n",
    "\n",
    "To create a set in Python, you can use the following syntax:\n",
    "\n",
    "\n",
    "my_set = {1, 2, 3, 4, 5}\n",
    "This creates a set called my_set that contains the numbers 1, 2, 3, 4, and 5.\n",
    "\n",
    "You can add elements to a set using the add() method:\n",
    "\n",
    "my_set.add(6)\n",
    "Use code with caution. Learn more\n",
    "This adds the number 6 to the set my_set.\n",
    "\n",
    "You can remove elements from a set using the remove() method:\n",
    "\n",
    "\n",
    "my_set.remove(5)\n",
    "Use code with caution. Learn more\n",
    "This removes the number 5 from the set my_set.\n",
    "\n",
    "You can check if an element is in a set using the in keyword:\n",
    "\n",
    "\n",
    "if 1 in my_set:\n",
    "    print(\"1 is in the set\")\n",
    "Use code with caution. Learn more\n",
    "This will print the following output:\n",
    "\n",
    "\n",
    "1 is in the set\n",
    "Use code with caution. Learn more\n",
    "You can iterate over a set using a for loop:\n",
    "\n",
    "for element in my_set:\n",
    "    print(element)\n",
    "\n",
    "This will print the following output:\n",
    "\n",
    "Code snippet\n",
    "1\n",
    "2\n",
    "3\n",
    "4\n",
    "6\n",
    "Use code with caution. Learn more\n",
    "Here are some additional things to know about sets in Python:\n",
    "\n",
    "Sets are unordered, meaning that the order of the elements in a set is not important.\n",
    "Sets are unindexed, meaning that you cannot access elements in a set by their index.\n",
    "Sets are iterable, meaning that you can iterate over the elements in a set using a for loop.\n",
    "Sets are mutable, meaning that you can add, remove, and change the elements in a set after it is created.\n",
    "Sets are hashable, meaning that they can be used as keys in dictionaries.\n",
    "I hope this helps! Let me know if you have any other questions.\n",
    "\n",
    "Set operations are the operations that are applied on two or more sets to develop a relationship between them. There are four main set operations:\n",
    "\n",
    "Union (∪): The union of two sets A and B is the set that contains all the elements that are in A or in B or in both A and B. It is denoted by A ∪ B.\n",
    "Intersection (∩): The intersection of two sets A and B is the set that contains all the elements that are in both A and B. It is denoted by A ∩ B.\n",
    "Difference (-): The difference of two sets A and B is the set that contains all the elements that are in A but not in B. It is denoted by A - B.\n",
    "Complement ('): The complement of a set A is the set that contains all the elements that are not in A. It is denoted by A'.\n",
    "Here are some examples of set operations:\n",
    "\n",
    "If A = {1, 2, 3} and B = {2, 3, 4}, then A ∪ B = {1, 2, 3, 4}.\n",
    "If A = {1, 2, 3} and B = {2, 3, 4}, then A ∩ B = {2, 3}.\n",
    "If A = {1, 2, 3} and B = {2, 3, 4}, then A - B = {1}.\n",
    "If A = {1, 2, 3} and B = {2, 3, 4}, then A' = {4}.\n",
    "Set operations are used in many different areas of mathematics, including probability, statistics, and logic. They are also used in computer science, where they are used to represent data structures and algorithms."
   ]
  },
  {
   "cell_type": "code",
   "execution_count": null,
   "metadata": {},
   "outputs": [],
   "source": [
    "#take two set inputs and print set diff\n",
    "n=int(input(\"Enter set size\"))\n",
    "s1=set()\n",
    "for i in range(n):\n",
    "    s1.add(input())\n",
    "print(s1)\n",
    "n=int(input(\"Enter set size\"))\n",
    "s2=set()\n",
    "for i in range(n):\n",
    "    s2.add(input())\n",
    "print(s2)\n",
    "print(s1-s2)\n",
    "print(s1&s2)\n",
    "print(s1^s2)\n",
    "print(s1|s2)\n",
    "\n",
    "\n"
   ]
  },
  {
   "cell_type": "markdown",
   "metadata": {},
   "source": [
    "\n",
    "Strings in Python are immutable sequences of characters. They are enclosed in single quotes (') or double quotes (\").\n",
    "\n",
    "Here are some of the methods that can be used on strings in Python:\n",
    "\n",
    "capitalize(): Converts the first character of the string to uppercase.\n",
    "center(): Returns a new string with the original string centered in a string of the specified width, padded with spaces on the left and right.\n",
    "count(): Returns the number of times the specified substring appears in the string.\n",
    "endswith(): Returns True if the string ends with the specified substring, False otherwise.\n",
    "find(): Returns the index of the first occurrence of the specified substring in the string, or -1 if the substring is not found.\n",
    "format(): Returns a formatted version of the string, using the specified format specifiers.\n",
    "index(): Returns the index of the first occurrence of the specified substring in the string, raising an exception if the substring is not found.\n",
    "isalnum(): Returns True if all characters in the string are alphanumeric, False otherwise.\n",
    "isalpha(): Returns True if all characters in the string are alphabetic, False otherwise.\n",
    "isdigit(): Returns True if all characters in the string are digits, False otherwise.\n",
    "islower(): Returns True if all characters in the string are lowercase, False otherwise.\n",
    "isspace(): Returns True if all characters in the string are whitespace, False otherwise.\n",
    "istitle(): Returns True if the string is titlecase, False otherwise.\n",
    "isupper(): Returns True if all characters in the string are uppercase, False otherwise.\n",
    "lower(): Converts all characters in the string to lowercase.\n",
    "lstrip(): Returns a new string with all leading whitespace characters removed.\n",
    "replace(): Returns a new string with the specified substring replaced with the specified replacement string.\n",
    "rfind(): Returns the index of the last occurrence of the specified substring in the string, or -1 if the substring is not found.\n",
    "rindex(): Returns the index of the last occurrence of the specified substring in the string, raising an exception if the substring is not found.\n",
    "rstrip(): Returns a new string with all trailing whitespace characters removed.\n",
    "split(): Returns a list of strings, where each string is a substring of the original string, separated by the specified delimiter.\n",
    "startswith(): Returns True if the string starts with the specified substring, False otherwise.\n",
    "strip(): Returns a new string with all leading and trailing whitespace characters removed.\n",
    "upper(): Converts all characters in the string to uppercase.\n",
    "swapcase(): Converts all lowercase characters in the string to uppercase and all uppercase characters to lowercase.\n",
    "Here are some of the operators that can be used on strings in Python:\n",
    "\n",
    "+: Concatenates two strings.\n",
    "*: Repeats the string a specified number of times.\n",
    "in: Returns True if the specified substring is found in the string, False otherwise.\n",
    "not in: Returns True if the specified substring is not found in the string, False otherwise.\n",
    "Here are some examples of how to use strings in Python:\n",
    "\n",
    "Python\n",
    "# Create a string\n",
    "my_string = \"Hello, world!\"\n",
    "\n",
    "# Get the length of the string\n",
    "print(len(my_string))\n",
    "\n",
    "# Convert the string to uppercase\n",
    "print(my_string.upper())\n",
    "\n",
    "# Convert the string to lowercase\n",
    "print(my_string.lower())\n",
    "\n",
    "# Find the index of the first occurrence of the substring \"world\" in the string\n",
    "print(my_string.find(\"world\"))\n",
    "\n",
    "# Replace the substring \"world\" with \"universe\" in the string\n",
    "print(my_string.replace(\"world\", \"universe\"))\n",
    "\n",
    "# Split the string into a list of strings, where each string is a substring of the original string, separated by a space\n",
    "print(my_string.split())\n",
    "\n",
    "# Check if the string starts with the substring \"Hello\"\n",
    "print(\"Hello\" in my_string)\n",
    "\n",
    "# Check if the string ends with the substring \"!\"\n",
    "print(\"!\" in my_string)"
   ]
  }
 ],
 "metadata": {
  "kernelspec": {
   "display_name": "Python 3",
   "language": "python",
   "name": "python3"
  },
  "language_info": {
   "codemirror_mode": {
    "name": "ipython",
    "version": 3
   },
   "file_extension": ".py",
   "mimetype": "text/x-python",
   "name": "python",
   "nbconvert_exporter": "python",
   "pygments_lexer": "ipython3",
   "version": "3.10.1"
  },
  "orig_nbformat": 4,
  "vscode": {
   "interpreter": {
    "hash": "a42ccb73e7d9bfdf27e036f1d2b8b681e55fc0743cc5586bc2474d4a60f4b886"
   }
  }
 },
 "nbformat": 4,
 "nbformat_minor": 2
}
