{
 "cells": [
  {
   "attachments": {},
   "cell_type": "markdown",
   "metadata": {},
   "source": [
    "explicit typecasting\n",
    "Python doesnt have any datatypes at individual variable level, it uses classes to convert variables into other datatypes\n",
    "We use classes to explicitly typecast"
   ]
  },
  {
   "cell_type": "code",
   "execution_count": 1,
   "metadata": {},
   "outputs": [
    {
     "name": "stdout",
     "output_type": "stream",
     "text": [
      "1\n"
     ]
    }
   ],
   "source": [
    "a=True\n",
    "b=int(a)\n",
    "print(b)\n"
   ]
  },
  {
   "attachments": {},
   "cell_type": "markdown",
   "metadata": {},
   "source": [
    "sequential datatypes \n",
    "Lists, Tuples, Sets, Frozen Sets, Arrays, Strings, etc."
   ]
  },
  {
   "cell_type": "code",
   "execution_count": 8,
   "metadata": {},
   "outputs": [
    {
     "name": "stdout",
     "output_type": "stream",
     "text": [
      "1\n",
      "10\n",
      "[1, 2, 3, 4, 5, 6, 7, 8, 9, 10, 'parul']\n",
      "{1, 2, 3, 4, 5, 6, 7, 8, 9, 10, 'parul'}\n",
      "p\n",
      "l\n"
     ]
    }
   ],
   "source": [
    "l=[] #list\n",
    "t=() #tuple\n",
    "d={} #dictionary\n",
    "s=set() #set\n",
    "\n",
    "#tuples are immutable\n",
    "#lists are mutable\n",
    "\n",
    "#two types of indexing\n",
    "#1. positive indexing\n",
    "#2. negative indexing\n",
    "\n",
    "# Examples of these indexing methods in lists and tuples\n",
    "l=[1,2,3,4,5,6,7,8,9,10]\n",
    "print(l[0])\n",
    "print(l[-1])\n",
    "#list are mutable, and can append one argument at a time\n",
    "l.append(\"parul\")\n",
    "print(l)\n",
    "\n",
    "#sets dont support indexing\n",
    "s={1,2,3,4,5,6,7,8,9,10}\n",
    "#print(s[0])\n",
    "#print(s[-1]) #this leads to error\n",
    "#sets are immutable, and can only add one element at a time\n",
    "s.add(\"parul\")\n",
    "print(s)\n",
    "\n",
    "#strings too are immutable but support indexing\n",
    "s=\"parul\"\n",
    "print(s[0])\n",
    "print(s[-1])\n"
   ]
  },
  {
   "attachments": {},
   "cell_type": "markdown",
   "metadata": {},
   "source": [
    "Dictionary, pair of keys:values\n",
    "Doesn't support indexing with the traditional approach\n"
   ]
  },
  {
   "cell_type": "code",
   "execution_count": 16,
   "metadata": {},
   "outputs": [
    {
     "name": "stdout",
     "output_type": "stream",
     "text": [
      "parul\n",
      "pit\n",
      "1234\n",
      "dict_keys([1, 'name', (2+3j)])\n",
      "dict_values(['parul', 'pit', 1234])\n",
      "{1: 'parul', 'name': 'Parul', (2+3j): 1234}\n"
     ]
    }
   ],
   "source": [
    "s={1:\"parul\",\"name\":\"pit\", 2+3j:1234 }\n",
    "print(s[1])\n",
    "print(s[\"name\"])\n",
    "print(s[2+3j])\n",
    "print(s.keys())\n",
    "print(s.values())\n",
    "\n",
    "#sets dont support indexing\n",
    "#sets are mutable\n",
    "#sets are unordered\n",
    "#sets dont support duplicate values\n",
    "#sets dont support slicing\n",
    "s[\"name\"] =\"Parul\"\n",
    "print(s)"
   ]
  },
  {
   "attachments": {},
   "cell_type": "markdown",
   "metadata": {},
   "source": [
    "Arithmetical Operators, wahi apna plus minus divide multiply"
   ]
  },
  {
   "cell_type": "code",
   "execution_count": 17,
   "metadata": {},
   "outputs": [
    {
     "name": "stdout",
     "output_type": "stream",
     "text": [
      "14\n",
      "10\n",
      "24\n",
      "6.0\n",
      "6\n",
      "0\n",
      "144\n"
     ]
    }
   ],
   "source": [
    "a=12\n",
    "b=2\n",
    "print(a+b)\n",
    "print(a-b)\n",
    "print(a*b)\n",
    "print(a/b)\n",
    "print(a//b) #quotient\n",
    "print(a%b)  #modulus\n",
    "print(a**b) #power\n",
    "\n"
   ]
  },
  {
   "attachments": {},
   "cell_type": "markdown",
   "metadata": {},
   "source": [
    "Input : how to accept values in python\n"
   ]
  },
  {
   "cell_type": "code",
   "execution_count": 33,
   "metadata": {},
   "outputs": [
    {
     "name": "stdout",
     "output_type": "stream",
     "text": [
      "96.0\n",
      "(55+0j)\n"
     ]
    }
   ],
   "source": [
    "a=float(input(\"Enter the first value\"))\n",
    "print(a)\n",
    "b=complex(input(\"Enter the second value\"))\n",
    "print(b)"
   ]
  },
  {
   "cell_type": "code",
   "execution_count": 36,
   "metadata": {},
   "outputs": [
    {
     "name": "stdout",
     "output_type": "stream",
     "text": [
      "21\n"
     ]
    }
   ],
   "source": [
    "#Question 1\n",
    "#test case 1 \n",
    "#input : 2+35+7-23\n",
    "#output : 21\n",
    "r=eval(input())\n",
    "print(r)\n"
   ]
  },
  {
   "cell_type": "code",
   "execution_count": null,
   "metadata": {},
   "outputs": [],
   "source": [
    "#Question 2\n",
    "#test case 2: Accept two numbers using stdin and print addtion, subtraction and product of those two numbers\n"
   ]
  },
  {
   "cell_type": "code",
   "execution_count": 37,
   "metadata": {},
   "outputs": [
    {
     "name": "stdout",
     "output_type": "stream",
     "text": [
      "28\n",
      "18\n",
      "115\n"
     ]
    }
   ],
   "source": [
    "a=int(input())\n",
    "b=int(input())\n",
    "\n",
    "print(a+b)\n",
    "print(a-b)\n",
    "print(a*b)\n"
   ]
  },
  {
   "attachments": {},
   "cell_type": "markdown",
   "metadata": {},
   "source": [
    "Raw Input Function : Only supports Strings Input, not supported by Python3\n",
    "But Python3 me to by default raw input hi he, as it already supports accepting values in form of string"
   ]
  },
  {
   "cell_type": "code",
   "execution_count": 51,
   "metadata": {},
   "outputs": [
    {
     "name": "stdout",
     "output_type": "stream",
     "text": [
      "23,5\n",
      "1^2^3^4\n"
     ]
    }
   ],
   "source": [
    "#seperating using explicit seperator\n",
    "print(a,b,sep=\",\")\n",
    "\n",
    "#Question 1^2^3^4\n",
    "l=[0,0,0,0]\n",
    "for i in range(0,4):\n",
    "    l[i]=int(input())\n",
    "\n",
    "print(l[0],l[1],l[2],l[3],sep=\"^\")"
   ]
  },
  {
   "attachments": {},
   "cell_type": "markdown",
   "metadata": {},
   "source": [
    "Flush, this is used to clear out all the buffer in the compiler, so it allows us to get rid of variable clashing in values, by default value false, need to cahnge it to true."
   ]
  },
  {
   "cell_type": "code",
   "execution_count": 52,
   "metadata": {},
   "outputs": [
    {
     "name": "stdout",
     "output_type": "stream",
     "text": [
      "a#b#c\n"
     ]
    }
   ],
   "source": [
    "print(\"a\",\"b\",\"c\", sep=\"#\", flush=\"True\")\n"
   ]
  },
  {
   "attachments": {},
   "cell_type": "markdown",
   "metadata": {},
   "source": [
    "Membership Operator\n",
    "1)in\n",
    "2)not in\n",
    "\n",
    "check whether your subset is present in your set or not\n"
   ]
  },
  {
   "cell_type": "code",
   "execution_count": 54,
   "metadata": {},
   "outputs": [
    {
     "name": "stdout",
     "output_type": "stream",
     "text": [
      "False\n"
     ]
    }
   ],
   "source": [
    "a=\"parul\"\n",
    "print('l' not in a)\n"
   ]
  },
  {
   "attachments": {},
   "cell_type": "markdown",
   "metadata": {},
   "source": [
    "Identifier Operator\n",
    "\n",
    "is,is not \n",
    "\n",
    "used to check equality of two values\n"
   ]
  },
  {
   "cell_type": "code",
   "execution_count": 59,
   "metadata": {},
   "outputs": [
    {
     "name": "stderr",
     "output_type": "stream",
     "text": [
      "<>:3: SyntaxWarning: \"is not\" with a literal. Did you mean \"!=\"?\n",
      "<>:3: SyntaxWarning: \"is not\" with a literal. Did you mean \"!=\"?\n"
     ]
    },
    {
     "name": "stdout",
     "output_type": "stream",
     "text": [
      "True\n"
     ]
    },
    {
     "name": "stderr",
     "output_type": "stream",
     "text": [
      "C:\\Users\\Admin\\AppData\\Local\\Temp\\ipykernel_2688\\2749436332.py:3: SyntaxWarning: \"is not\" with a literal. Did you mean \"!=\"?\n",
      "  print(l[2] is not 78)\n"
     ]
    }
   ],
   "source": [
    "for i in range(0,4):\n",
    "    l[i]=int(input())\n",
    "b=l[2]\n",
    "print(b is not 78)\n"
   ]
  },
  {
   "attachments": {},
   "cell_type": "markdown",
   "metadata": {},
   "source": [
    "Logical Operators\n",
    " and not or\n",
    " "
   ]
  },
  {
   "cell_type": "code",
   "execution_count": 60,
   "metadata": {},
   "outputs": [
    {
     "name": "stdout",
     "output_type": "stream",
     "text": [
      "True\n"
     ]
    }
   ],
   "source": [
    "a=56\n",
    "b=78\n",
    "print(not(a!=b and a==b))"
   ]
  },
  {
   "attachments": {},
   "cell_type": "markdown",
   "metadata": {},
   "source": [
    "Assignment operators\n",
    "=, *= and that stuff\n",
    "\n",
    "a+=b wala operators"
   ]
  },
  {
   "attachments": {},
   "cell_type": "markdown",
   "metadata": {},
   "source": [
    "Bitwise Operators.\n",
    "&, ^, |, ~, << >>\n",
    "\n",
    "both input of same bits, add zeros to make it so\n"
   ]
  }
 ],
 "metadata": {
  "kernelspec": {
   "display_name": "Python 3",
   "language": "python",
   "name": "python3"
  },
  "language_info": {
   "codemirror_mode": {
    "name": "ipython",
    "version": 3
   },
   "file_extension": ".py",
   "mimetype": "text/x-python",
   "name": "python",
   "nbconvert_exporter": "python",
   "pygments_lexer": "ipython3",
   "version": "3.10.1"
  },
  "orig_nbformat": 4,
  "vscode": {
   "interpreter": {
    "hash": "a42ccb73e7d9bfdf27e036f1d2b8b681e55fc0743cc5586bc2474d4a60f4b886"
   }
  }
 },
 "nbformat": 4,
 "nbformat_minor": 2
}
