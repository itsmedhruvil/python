{
 "cells": [
  {
   "cell_type": "code",
   "execution_count": null,
   "metadata": {},
   "outputs": [],
   "source": [
    "#write python program to sort characcter and number so that first alphabets and number are printed\n",
    "\n",
    "str=input(\"enter the string\")\n",
    "str1=\"\"\n",
    "letters=[]\n",
    "numbers=[]\n",
    "for i in str:\n",
    "        if i.isalpha():\n",
    "            letters.append(i)\n",
    "        elif i.isdigit():\n",
    "            numbers.append(i)\n",
    "str1=''.join(sorted(letters) + sorted(numbers))            \n",
    "print(\"sorted string:\",str1)"
   ]
  },
  {
   "cell_type": "code",
   "execution_count": null,
   "metadata": {},
   "outputs": [],
   "source": [
    "n=input(\"Enter the number of steps\")\n",
    "steps=int(n)\n",
    "x=0\n",
    "y=0\n",
    "m=1\n",
    "while(steps>0):\n",
    "    if(steps):\n",
    "        x=x+m*10\n",
    "        steps-=1\n",
    "        m+=1\n",
    "    if(steps):\n",
    "        y=y-m*10\n",
    "        steps-=1\n",
    "        m+=1\n",
    "    if(steps):\n",
    "        x=x-m*10\n",
    "        steps-=1\n",
    "        m+=1\n",
    "    if(steps):\n",
    "        y=y+m*10\n",
    "        steps=steps-1\n",
    "        m+=1\n",
    "print(x)\n",
    "print(y)"
   ]
  },
  {
   "cell_type": "code",
   "execution_count": null,
   "metadata": {},
   "outputs": [],
   "source": [
    "#Check Whether PANGRAM\n",
    "#using Hashing\n",
    "numbers = list(range(65, 91))\n",
    "str=input(\"Input to check for Pangram\").upper()\n",
    "l=[0]*26\n",
    "for i in range(len(str)):\n",
    "    ch=ord(str[i])\n",
    "    if ch in numbers:\n",
    "        l[ch-65]=1\n",
    "check = 0\n",
    "for number in l:\n",
    "    check += number\n",
    "\n",
    "if(check==26):\n",
    "    print(\"Pangram\")\n",
    "else:\n",
    "    print(\"Not Pangram\")"
   ]
  },
  {
   "cell_type": "code",
   "execution_count": null,
   "metadata": {},
   "outputs": [],
   "source": [
    "#using string approach\n",
    "numbers = list(range(65, 91))\n",
    "str=input(\"Input to check for Pangram\").upper()\n",
    "strset=set(str)\n",
    "strlist=list(strset)\n",
    "count=0\n",
    "\n",
    "for i in range(len(strlist)):\n",
    "    ch=ord(strlist[i])\n",
    "    if ch in numbers:\n",
    "        count=count+1\n",
    "if count==26:\n",
    "    print(\"Pangram\")\n",
    "else:\n",
    "    print(\"Not Pangram\")\n"
   ]
  },
  {
   "cell_type": "code",
   "execution_count": null,
   "metadata": {},
   "outputs": [],
   "source": [
    "#count no of unique substrings\n",
    "s=input(\"Enter a String\")\n",
    "#gather all the substrings\n",
    "a=[]\n",
    "for i in range(len(s)):\n",
    "    st=\"\"\n",
    "    st=st+s[i]\n",
    "    if st not in a:\n",
    "        a.append(st)\n",
    "        print(st)\n",
    "    for j in range(i+1,len(s)):\n",
    "        st=st+s[j]\n",
    "        if st not in a:\n",
    "            a.append(st)\n",
    "            print(st)\n",
    "print(len(a))"
   ]
  },
  {
   "cell_type": "code",
   "execution_count": null,
   "metadata": {},
   "outputs": [],
   "source": [
    "#longest palindromic substring\n",
    "s=input(\"Enter a String\")\n",
    "#gather all the substrings\n",
    "a=[]\n",
    "for i in range(len(s)):\n",
    "    st=\"\"\n",
    "    st=st+s[i]\n",
    "    a.append(st)\n",
    "    for j in range(i+1,len(s)):\n",
    "        st=st+s[j]\n",
    "        a.append(st)\n",
    "#check for palindromes in susbstrings\n",
    "palin=[]\n",
    "for i in a:\n",
    "    if i==i[::-1]:\n",
    "        palin.append(i)\n",
    "t=0\n",
    "for j in palin:\n",
    "    l=len(j)\n",
    "    if(l>t):\n",
    "        t=l\n",
    "for i in palin:\n",
    "    if len(i)==t:\n",
    "        print(i)\n"
   ]
  },
  {
   "cell_type": "code",
   "execution_count": null,
   "metadata": {},
   "outputs": [],
   "source": [
    "def column_major(arr, N, M):\n",
    "    for j in range(M):\n",
    "        for i in range(N):\n",
    "            print(arr[i][j], end=\" \")\n",
    "        print()\n",
    "\n",
    "N, M = map(int, input().split())\n",
    "arr = []\n",
    "\n",
    "for _ in range(N):\n",
    "    row = list(map(int, input().split()))\n",
    "    arr.append(row)\n",
    "\n",
    "column_major(arr, N, M)\n"
   ]
  },
  {
   "cell_type": "code",
   "execution_count": null,
   "metadata": {},
   "outputs": [],
   "source": [
    "class MyClass:\n",
    "    def __init__(self, attr1, attr2):\n",
    "        self.attr1 = attr1\n",
    "        self.attr2 = attr2\n",
    "\n",
    "    def compare_values(self, other):\n",
    "        return self.attr1 == other.attr1 and self.attr2 == other.attr2\n",
    "\n",
    "\n",
    "if __name__ == \"__main__\":\n",
    "    obj1 = MyClass(\"A\", \"B\")\n",
    "    obj2 = MyClass(\"A\", \"B\")\n",
    "\n",
    "    if obj1.compare_values(obj2):\n",
    "        print(\"The objects are the same.\")\n",
    "    else:\n",
    "        print(\"The objects are different.\")"
   ]
  },
  {
   "cell_type": "code",
   "execution_count": null,
   "metadata": {},
   "outputs": [],
   "source": [
    "class abc:\n",
    "    def __init__(z,name,year) -> None:\n",
    "        z.name=name\n",
    "        z.year=year\n",
    "        print(name,year)\n",
    "\n",
    "a1=abc(\"parul\",1999)\n"
   ]
  },
  {
   "cell_type": "code",
   "execution_count": 9,
   "metadata": {},
   "outputs": [
    {
     "name": "stdout",
     "output_type": "stream",
     "text": [
      "1 1 1\n"
     ]
    }
   ],
   "source": [
    "class A:\n",
    "    def __str__(self):\n",
    "        return \"1\"\n",
    "\n",
    "\n",
    "class B(A):\n",
    "    def __init__(self):\n",
    "        super().__init__()\n",
    "\n",
    "\n",
    "class C(B):\n",
    "    def __init__(self):\n",
    "        super().__init__()\n",
    "\n",
    "\n",
    "def main():\n",
    "    obj1 = B()\n",
    "    obj2 = A()\n",
    "    obj3 = C()\n",
    "    print(obj1, obj2, obj3)\n",
    "\n",
    "\n",
    "main()"
   ]
  },
  {
   "cell_type": "code",
   "execution_count": 10,
   "metadata": {},
   "outputs": [
    {
     "name": "stdout",
     "output_type": "stream",
     "text": [
      "2\n"
     ]
    }
   ],
   "source": [
    "n=int(input())\n",
    "#count digits\n",
    "list1=[]\n",
    "def digit_count(one,two):\n",
    "    s=str(one)\n",
    "    s1=str(two)\n",
    "    st=s+s1\n",
    "    l=len(st)\n",
    "    list1.append(l)\n",
    "\n",
    "while n!=1:\n",
    "    for i in range(1,n+1):\n",
    "        t=n%i\n",
    "        if t==0:\n",
    "            t=int(n/i)\n",
    "            digit_count(i,t)\n",
    "            n=int(n/i)\n",
    "print(min(list1))"
   ]
  }
 ],
 "metadata": {
  "kernelspec": {
   "display_name": "Python 3",
   "language": "python",
   "name": "python3"
  },
  "language_info": {
   "codemirror_mode": {
    "name": "ipython",
    "version": 3
   },
   "file_extension": ".py",
   "mimetype": "text/x-python",
   "name": "python",
   "nbconvert_exporter": "python",
   "pygments_lexer": "ipython3",
   "version": "3.10.1"
  },
  "orig_nbformat": 4
 },
 "nbformat": 4,
 "nbformat_minor": 2
}
