{
 "cells": [
  {
   "cell_type": "code",
   "execution_count": null,
   "metadata": {},
   "outputs": [],
   "source": [
    "a = int(input(\"Load: \"))\n",
    "if a==0:\n",
    "    print(\"Estimated time is 0 min\")\n",
    "elif a<=2000:\n",
    "    print(\"Estimated time is 25 min\")\n",
    "elif a>2000 and a<=4000:\n",
    "    print(\"Estimate time is 35 min\")\n",
    "elif a>4000 and a<=7000:\n",
    "    print(\"Estimated time is 45 min\")\n",
    "elif a>7000:\n",
    "    print(\"Overloaded\")\n",
    "else:\n",
    "    print(\"Invalid\")"
   ]
  },
  {
   "cell_type": "code",
   "execution_count": 3,
   "metadata": {},
   "outputs": [
    {
     "name": "stdout",
     "output_type": "stream",
     "text": [
      "10.0\n"
     ]
    }
   ],
   "source": [
    "monkeys = int(input(\"Enter the total number of Monkeys\"))\n",
    "peanuts = int(input(\"Enter the total number of Peanuts\"))\n",
    "bananas = int(input(\"Emter the total number of Bananas\"))\n",
    "\n",
    "peanuts_eatable=int(input(\"How many peanuts are eatable\"))\n",
    "bananas_eatable=int(input(\"How many bananas are eatable\"))\n",
    "\n",
    "eatable_bananas = bananas/bananas_eatable\n",
    "eatable_peanuts = peanuts/peanuts_eatable\n",
    "\n",
    "monkeys_left = monkeys-(eatable_bananas+eatable_peanuts)\n",
    "print(monkeys_left)\n"
   ]
  },
  {
   "cell_type": "code",
   "execution_count": 11,
   "metadata": {},
   "outputs": [
    {
     "name": "stdout",
     "output_type": "stream",
     "text": [
      "69\n",
      "guess is low\n",
      "you guessed it after try 2\n"
     ]
    }
   ],
   "source": [
    "#generate a random number between 0 and 100\n",
    "import random\n",
    "number = random.randint(0,100)\n",
    "count=0\n",
    "print(number)\n",
    "#take user input\n",
    "while True:\n",
    "    guess = int(input(\"Enter an integer from 1 to 100: \"))\n",
    "    if guess < number:\n",
    "        print(\"guess is low\")\n",
    "        count=count+1\n",
    "    elif guess > number:\n",
    "        print(\"guess is high\")\n",
    "        count=count+1\n",
    "    elif guess==number:\n",
    "        count=count+1\n",
    "        print(\"you guessed it after try\",count)\n",
    "        break\n"
   ]
  },
  {
   "cell_type": "code",
   "execution_count": 3,
   "metadata": {},
   "outputs": [
    {
     "name": "stdout",
     "output_type": "stream",
     "text": [
      "The Jar has  10 candies left\n",
      "Jar refilled\n",
      "Invalid order\n",
      "Invalid order\n"
     ]
    }
   ],
   "source": [
    "capacity = int(input(\"Enter the capactiy of the Jar\"))\n",
    "candies_in = int(input(\"Enter the number of candies in Jar\"))\n",
    "k = 10\n",
    "while True:\n",
    "    i=int(input(\"Enter 0 to Continue, Enter 1 to Stop\"))\n",
    "    if i == 0:\n",
    "        order = int(input(\"Enter your order\"))\n",
    "        if order<=capacity and order<=candies_in and order<=k:\n",
    "            candies_in = candies_in - order\n",
    "            print(\"The Jar has \", candies_in, \"candies left\")\n",
    "        elif order>=capacity and order>=candies_in and order>k:\n",
    "            print(\"Invalid order\")\n",
    "\n",
    "    if(candies_in==k):\n",
    "        candies_in=capacity\n",
    "        print(\"Jar refilled\")\n",
    "    elif i==1:\n",
    "        break"
   ]
  },
  {
   "cell_type": "code",
   "execution_count": 1,
   "metadata": {},
   "outputs": [
    {
     "name": "stdout",
     "output_type": "stream",
     "text": [
      "{1: 2, 3: 4}\n",
      "Key is present and value of the key is 2\n"
     ]
    }
   ],
   "source": [
    "n=int(input(\"Size: \"))\n",
    "d={}\n",
    "for i in range(n):\n",
    "    key=int(input())\n",
    "    value=int(input())\n",
    "    d[key]=value \n",
    "print(d)\n",
    "k=int(input(\"Enter key\"))\n",
    "if k in d:\n",
    "    print(\"Key is present\")\n",
    "else:\n",
    "    print(\"Key is not present\")\n"
   ]
  },
  {
   "cell_type": "code",
   "execution_count": 2,
   "metadata": {},
   "outputs": [
    {
     "name": "stdout",
     "output_type": "stream",
     "text": [
      "{1: 1, 2: 4, 3: 9}\n"
     ]
    }
   ],
   "source": [
    "n = int(input(\"Enter a number\"))\n",
    "d= {i:i*i for i in range(1,n+1) }\n",
    "print(d)\n"
   ]
  },
  {
   "cell_type": "code",
   "execution_count": 10,
   "metadata": {},
   "outputs": [
    {
     "name": "stdout",
     "output_type": "stream",
     "text": [
      "{'a': 400, 'b': 400, 'c': 300, 'd': 300}\n",
      "Counter({'a': 400, 'b': 400, 'c': 300, 'd': 300})\n"
     ]
    }
   ],
   "source": [
    "a={'a':100, 'b':200, 'c':300}\n",
    "b={'a':300, 'b':200, 'd':300}\n",
    "\n",
    "for i in b:\n",
    "    if i in a:\n",
    "        a[i]=a[i]+b[i]\n",
    "    else:\n",
    "        a[i]=b[i]\n",
    "print(a)\n",
    "\n",
    "#using counter from collections\n",
    "a={'a':100, 'b':200, 'c':300}\n",
    "b={'a':300, 'b':200, 'd':300}\n",
    "from collections import Counter\n",
    "c=Counter(a)+Counter(b)\n",
    "print(c)\n",
    "\n",
    "\n"
   ]
  },
  {
   "cell_type": "code",
   "execution_count": 6,
   "metadata": {},
   "outputs": [
    {
     "name": "stdout",
     "output_type": "stream",
     "text": [
      "hELOhI\n"
     ]
    }
   ],
   "source": [
    "str = input(\"Enter a String\")\n",
    "s=\"\"\n",
    "for i in str:\n",
    "    if i.isupper():\n",
    "        i=i.lower()\n",
    "    else:\n",
    "        i=i.upper()\n",
    "    s=s+i\n",
    "print(s)\n",
    "\n"
   ]
  },
  {
   "cell_type": "code",
   "execution_count": 18,
   "metadata": {},
   "outputs": [
    {
     "name": "stdout",
     "output_type": "stream",
     "text": [
      "Helo"
     ]
    }
   ],
   "source": [
    "str=input(\"Enter a String\")\n",
    "characters = list(str)\n",
    "print(characters[0], end=\"\")\n",
    "for i in range(1,len(characters)):\n",
    "    if characters[i] != characters[i - 1]:\n",
    "        print(characters[i], end = \"\")\n",
    "      "
   ]
  },
  {
   "cell_type": "code",
   "execution_count": 12,
   "metadata": {},
   "outputs": [
    {
     "name": "stdout",
     "output_type": "stream",
     "text": [
      "  hellorajhi\n"
     ]
    }
   ],
   "source": [
    "str=input(\"Enter a String\")\n",
    "characters = list(str)\n",
    "count=0\n",
    "s=\"\"\n",
    "for i in range(0,len(characters)):\n",
    "    if characters[i] == ' ':\n",
    "        count=count+1\n",
    "        continue\n",
    "    else:\n",
    "        s=s+characters[i].lower()\n",
    "strp=\" \"*count+s\n",
    "print(strp)"
   ]
  },
  {
   "cell_type": "code",
   "execution_count": null,
   "metadata": {},
   "outputs": [],
   "source": []
  },
  {
   "cell_type": "code",
   "execution_count": 33,
   "metadata": {},
   "outputs": [
    {
     "name": "stdout",
     "output_type": "stream",
     "text": [
      "eoi\n"
     ]
    }
   ],
   "source": [
    "# # take two string inputs, concetenate, if values repeat even once pop all of those occurences ,i.e if h is found ]more than 1 time, no h will be printed\n",
    "# str1=input(\"Enter a String\")\n",
    "# str2=input(\"Enter a String\")\n",
    "# str3=str1+str2\n",
    "# str4=\"\"\n",
    "# for i in str3:\n",
    "#     if i not in str4:\n",
    "#         str4=str4+i\n",
    "#     else:\n",
    "#         str4=str4.replace(i,\"\")\n",
    "# print(str4)\n",
    "\n",
    "# take two string inputs, concetenate, if values repeat even once pop all of those occurences ,i.e if h is found ]more than 1 time, no h will be printed, do this using dict\n",
    "\n",
    "str1=input(\"Enter a String\")\n",
    "str2=input(\"Enter a String\")\n",
    "str3=str1+str2\n",
    "str4=\"\"\n",
    "d={}\n",
    "for i in str3:\n",
    "    if i not in d:\n",
    "        d[i]=1\n",
    "    else:\n",
    "        d[i]=d[i]+1 \n",
    "for i in d:\n",
    "    if d[i]==1:\n",
    "        str4=str4+i\n",
    "print(str4)\n",
    "\n",
    "\n"
   ]
  },
  {
   "cell_type": "code",
   "execution_count": null,
   "metadata": {},
   "outputs": [],
   "source": []
  },
  {
   "cell_type": "code",
   "execution_count": null,
   "metadata": {},
   "outputs": [],
   "source": []
  }
 ],
 "metadata": {
  "kernelspec": {
   "display_name": "Python 3",
   "language": "python",
   "name": "python3"
  },
  "language_info": {
   "codemirror_mode": {
    "name": "ipython",
    "version": 3
   },
   "file_extension": ".py",
   "mimetype": "text/x-python",
   "name": "python",
   "nbconvert_exporter": "python",
   "pygments_lexer": "ipython3",
   "version": "3.10.1"
  },
  "orig_nbformat": 4
 },
 "nbformat": 4,
 "nbformat_minor": 2
}
